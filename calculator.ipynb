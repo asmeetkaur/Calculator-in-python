{
 "cells": [
  {
   "cell_type": "code",
   "execution_count": 1,
   "id": "86206b91",
   "metadata": {},
   "outputs": [],
   "source": [
    "import tkinter as tk\n",
    "\n",
    "class Calculator(tk.Tk):\n",
    "    def __init__(self):\n",
    "        super().__init__()\n",
    "        self.title(\"GUI Calculator\")\n",
    "        self.geometry(\"400x500\")\n",
    "        self.result_var = tk.StringVar()\n",
    "        self.result_entry = tk.Entry(self, textvariable=self.result_var, font=(\"Helvetica\", 20), bd=10, relief=tk.SOLID)\n",
    "        self.result_entry.grid(row=0, column=0, columnspan=4, ipadx=8, ipady=8, padx=10, pady=10, sticky=\"news\")\n",
    "        buttons = [\n",
    "            ('7', 1, 0), ('8', 1, 1), ('9', 1, 2), ('/', 1, 3),\n",
    "            ('4', 2, 0), ('5', 2, 1), ('6', 2, 2), ('*', 2, 3),\n",
    "            ('1', 3, 0), ('2', 3, 1), ('3', 3, 2), ('-', 3, 3),\n",
    "            ('0', 4, 0), ('C', 4, 1), ('=', 4, 2), ('+', 4, 3)\n",
    "        ]\n",
    "\n",
    "        for (text, row, col) in buttons:\n",
    "            button = tk.Button(self, text=text, font=(\"Helvetica\", 16), padx=20, pady=20, command=lambda t=text: self.on_button_click(t))\n",
    "            button.grid(row=row, column=col, sticky=\"news\")\n",
    "        self.grid_columnconfigure(0, weight=1)\n",
    "        self.grid_rowconfigure(0, weight=1)\n",
    "        \n",
    "    def on_button_click(self, text):\n",
    "        if text == \"=\":\n",
    "            try:\n",
    "                result = eval(self.result_var.get())\n",
    "                self.result_var.set(result)\n",
    "            except Exception as e:\n",
    "                self.result_var.set(\"Error\")\n",
    "        elif text == \"C\":\n",
    "            self.result_var.set(\"\")\n",
    "        else:\n",
    "            current_text = self.result_var.get()\n",
    "            self.result_var.set(current_text + text)\n",
    "\n",
    "if __name__ == \"__main__\":\n",
    "    app = Calculator()\n",
    "    app.mainloop()\n"
   ]
  },
  {
   "cell_type": "code",
   "execution_count": null,
   "id": "6daea037",
   "metadata": {},
   "outputs": [],
   "source": []
  }
 ],
 "metadata": {
  "kernelspec": {
   "display_name": "Python 3 (ipykernel)",
   "language": "python",
   "name": "python3"
  },
  "language_info": {
   "codemirror_mode": {
    "name": "ipython",
    "version": 3
   },
   "file_extension": ".py",
   "mimetype": "text/x-python",
   "name": "python",
   "nbconvert_exporter": "python",
   "pygments_lexer": "ipython3",
   "version": "3.11.5"
  }
 },
 "nbformat": 4,
 "nbformat_minor": 5
}
